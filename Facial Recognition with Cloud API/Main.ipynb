{
 "cells": [
  {
   "cell_type": "markdown",
   "metadata": {},
   "source": [
    "# Import Library"
   ]
  },
  {
   "cell_type": "code",
   "execution_count": null,
   "metadata": {},
   "outputs": [],
   "source": [
    "import cv2\n",
    "import numpy as np\n",
    "import pandas as pd\n",
    "import os\n",
    "from matplotlib import pyplot as plt\n",
    "import time\n",
    "import base64\n",
    "import http.client\n",
    "import json\n",
    "import os\n",
    "import sys, shutil\n",
    "from PIL import Image, ImageDraw, ImageFont\n",
    "import openpyxl"
   ]
  },
  {
   "cell_type": "markdown",
   "metadata": {},
   "source": [
    "# Directory"
   ]
  },
  {
   "cell_type": "code",
   "execution_count": null,
   "metadata": {},
   "outputs": [],
   "source": [
    "Directory = '#####'\n",
    "Registered_Path = '#####'\n",
    "Database_Path = '#####'\n",
    "Verification_Path = '#####'"
   ]
  },
  {
   "cell_type": "markdown",
   "metadata": {},
   "source": [
    "# Register New User"
   ]
  },
  {
   "cell_type": "code",
   "execution_count": null,
   "metadata": {},
   "outputs": [],
   "source": [
    "def Register_New_User():\n",
    "    Name = input('Please Enter Your Name : ')\n",
    "\n",
    "    global File_Path\n",
    "    File_Path = os.path.join(Directory, Name)\n",
    "\n",
    "    if not os.path.exists(File_Path):\n",
    "        os.makedirs(File_Path)\n",
    "    \n",
    "    return Name"
   ]
  },
  {
   "cell_type": "markdown",
   "metadata": {},
   "source": [
    "# Capture Image From Live Video"
   ]
  },
  {
   "cell_type": "code",
   "execution_count": null,
   "metadata": {},
   "outputs": [],
   "source": [
    "def Capture_Image():\n",
    "    webcam = cv2.VideoCapture(0)\n",
    "    Count = 0\n",
    "\n",
    "    while Count < 1:\n",
    "        Count = Count + 1\n",
    "\n",
    "        # Capture frame-by-frame\n",
    "        ret, frame = webcam.read()\n",
    "\n",
    "        # Display the resulting frame\n",
    "        cv2.imshow('frame', frame)\n",
    "\n",
    "        # Capture Image in the videos\n",
    "        cv2.imwrite(File_Path + '/' + str(Name) + str(Count + 666) + '.jpg', frame)\n",
    "\n",
    "        time.sleep(0.1)\n",
    "\n",
    "        key = cv2.waitKey(10)\n",
    "        if key == 27:\n",
    "            break\n",
    "\n",
    "    webcam.release()\n",
    "    cv2.destroyAllWindows()\n",
    "\n",
    "    print('Information Stored Successfully')"
   ]
  },
  {
   "cell_type": "markdown",
   "metadata": {},
   "source": [
    "# Remove Temp and Save to Registered File"
   ]
  },
  {
   "cell_type": "code",
   "execution_count": null,
   "metadata": {},
   "outputs": [],
   "source": [
    "def Move_File():\n",
    "    for All_Folders in os.listdir(Directory):\n",
    "        shutil.move(Directory + All_Folders, Registered_Path)"
   ]
  },
  {
   "cell_type": "markdown",
   "metadata": {},
   "source": [
    "# Face Recognition System"
   ]
  },
  {
   "cell_type": "markdown",
   "metadata": {},
   "source": [
    "## Import Dependencies"
   ]
  },
  {
   "cell_type": "code",
   "execution_count": null,
   "metadata": {},
   "outputs": [],
   "source": [
    "# Set this variable to True to print all server responses.\n",
    "_print_responses = False\n",
    "\n",
    "# Your Sighthound Cloud token. More information at\n",
    "# https://www.sighthound.com/support/creating-api-token\n",
    "_cloud_token = '#####'\n",
    "\n",
    "# The cloud server to use, here we set the development server.\n",
    "_cloud_host = \"dev.sighthoundapi.com\"\n",
    "\n",
    "# A set in which to gather object names during step 1.\n",
    "_object_ids = set()\n",
    "\n",
    "# The name of the group to which we will add objects (step 2), train (step 3),\n",
    "# and test with (step 4).\n",
    "_group_name = '#####'\n",
    "\n",
    "# The directory where annotated test images will be written.\n",
    "_output_folder = \"out\""
   ]
  },
  {
   "cell_type": "markdown",
   "metadata": {},
   "source": [
    "## Step 1"
   ]
  },
  {
   "cell_type": "code",
   "execution_count": null,
   "metadata": {},
   "outputs": [],
   "source": [
    "def step1_upload_images(train_path):\n",
    "    \"\"\"Upload all training images.\n",
    "\n",
    "    @param  train_path  The path to the training image directory. This expects\n",
    "                        images to be organized in directories by object name as\n",
    "                        in \"sighthound-cloud-tutorial/images/training\".\n",
    "    \"\"\"\n",
    "    print(\"Step 1: Uploading training images\")\n",
    "    # Look for directories in our training folder. The names of each directory\n",
    "    # will be used as the object id for the images within.\n",
    "    for name in os.listdir(train_path):\n",
    "        base_path = os.path.join(train_path, name)\n",
    "        if os.path.isdir(base_path):\n",
    "            # Upload all image files within the directory.\n",
    "            print(\"  Adding images for object id \" + name)\n",
    "            for training_file in os.listdir(base_path):\n",
    "                file_path = os.path.join(base_path, training_file)\n",
    "                if is_image(file_path):\n",
    "                    print(\"    Uploading file \" + training_file)\n",
    "                    add_training_image(file_path, name)\n",
    "\n",
    "                    # Track all object ids for group creation in step 2.\n",
    "                    _object_ids.add(name)\n",
    "\n",
    "    print(\"Step 1 complete\\n\")"
   ]
  },
  {
   "cell_type": "code",
   "execution_count": null,
   "metadata": {},
   "outputs": [],
   "source": [
    "def add_training_image(image_path, object_id):\n",
    "    \"\"\"Submit an image to Sighthound Cloud for training.\n",
    "\n",
    "    @param  image_path  File path to the image to analyze. The filename will be\n",
    "                        used as the image id\n",
    "    @param  object_id   The id of the object (person) captured by this image.\n",
    "    \"\"\"\n",
    "\n",
    "    with open(image_path, \"rb\") as f:\n",
    "        data = f.read()\n",
    "        base64_image = base64.b64encode(data)\n",
    "        base64_image = Encoder(base64_image)\n",
    "        \n",
    "        \n",
    "    params = json.dumps({\"image\": base64_image})\n",
    "\n",
    "    url_path = \"/v1/image/%s?train=manual&objectType=person&objectId=%s\" % \\\n",
    "            (os.path.basename(image_path), object_id)\n",
    "\n",
    "    send_request(\"PUT\", url_path, params)"
   ]
  },
  {
   "cell_type": "code",
   "execution_count": null,
   "metadata": {},
   "outputs": [],
   "source": [
    "def is_image(filename):\n",
    "    \"\"\"A naive utility function to determine images via filename extension.\n",
    "\n",
    "    @param  filename  The filename to examine.\n",
    "    @return is_image  True if the file appears to be an image.\n",
    "    \"\"\"\n",
    "    return filename.endswith('.png') or filename.endswith('.jpeg') or \\\n",
    "            filename.endswith('.jpg') or filename.endswith('.bmp')"
   ]
  },
  {
   "cell_type": "markdown",
   "metadata": {},
   "source": [
    "## Step 2"
   ]
  },
  {
   "cell_type": "code",
   "execution_count": null,
   "metadata": {},
   "outputs": [],
   "source": [
    "def step2_create_group():\n",
    "    \"\"\"Create a group named via _group_name with the members from step 1.\"\"\"\n",
    "    print (\"Step 2: Creating group\")\n",
    "    print (\"  Adding objects %s to group %s\" % (str(_object_ids), _group_name))\n",
    "\n",
    "    params = json.dumps({\"objectIds\": list(_object_ids)})\n",
    "    send_request(\"PUT\", \"/v1/group/\" + _group_name, params)\n",
    "    \n",
    "    print(\"Step 2 complete\\n\")\n"
   ]
  },
  {
   "cell_type": "code",
   "execution_count": null,
   "metadata": {},
   "outputs": [],
   "source": [
    "def Add_Object_To_Group(Name1):\n",
    "    params = json.dumps({\"objectIds\": [Name1]})\n",
    "    send_request(\"POST\", \"/v1/group/%s\" % _group_name , params)"
   ]
  },
  {
   "cell_type": "code",
   "execution_count": null,
   "metadata": {},
   "outputs": [],
   "source": [
    "def send_request(request_method, request_path, params):\n",
    "    \"\"\"A utility function to send API requests to the Sighthound Cloud server.\n",
    "\n",
    "    This function will abort the script with sys.exit(1) on API errors.\n",
    "    \n",
    "    @param  request_method  The request method, \"PUT\" or \"POST\".\n",
    "    @param  request_path    The URL path for the API request.\n",
    "    @param  params          The parameters of the API request, if any.\n",
    "    @return response_body   The body of the response.\n",
    "    \"\"\"\n",
    "    # Send the request.\n",
    "    headers = {\"Content-type\": \"application/json\",\n",
    "               \"X-Access-Token\": _cloud_token}\n",
    "    conn = http.client.HTTPSConnection(_cloud_host)\n",
    "    conn.request(request_method, request_path, params, headers)\n",
    "\n",
    "    # Process the response.\n",
    "    response = conn.getresponse()\n",
    "    body = response.read()\n",
    "    error = response.status not in [200, 204]\n",
    "\n",
    "    if _print_responses or error:\n",
    "        print(response.status, body)\n",
    "\n",
    "    if error:\n",
    "        sys.exit(1)\n",
    "\n",
    "    return body"
   ]
  },
  {
   "cell_type": "markdown",
   "metadata": {},
   "source": [
    "## Step 3"
   ]
  },
  {
   "cell_type": "code",
   "execution_count": null,
   "metadata": {},
   "outputs": [],
   "source": [
    "def step3_train_group():\n",
    "    \"\"\"Train the group we created in step 2 to prepare it for recognition.\"\"\"\n",
    "    print(\"Step 3: Training group\")\n",
    "    print(\"  Sending train request for group %s\" % _group_name)\n",
    "\n",
    "    send_request(\"POST\", \"/v1/group/%s/training\" % _group_name, None)\n",
    "    \n",
    "    print(\"Step 3 complete\\n\")\n"
   ]
  },
  {
   "cell_type": "markdown",
   "metadata": {},
   "source": [
    "## Step 4"
   ]
  },
  {
   "cell_type": "code",
   "execution_count": null,
   "metadata": {},
   "outputs": [],
   "source": [
    "def Encoder(Image):\n",
    "    if isinstance(Image, bytes):  \n",
    "        return str(Image, encoding='utf-8');  \n",
    "    return json.JSONEncoder.default(self, Image)  "
   ]
  },
  {
   "cell_type": "code",
   "execution_count": null,
   "metadata": {},
   "outputs": [],
   "source": [
    "def step4_test(test_path):\n",
    "    \"\"\"Send images to our newly trained group to test its recognition.\"\"\"\n",
    "#     print \"Step 4: Beginning tests\"\n",
    "    # Create the output directory.\n",
    "    if not os.path.exists(_output_folder):\n",
    "        os.mkdir(_output_folder)\n",
    "\n",
    "    for test_file in os.listdir(test_path):\n",
    "        file_path = os.path.join(test_path, test_file)\n",
    "        if not is_image(file_path):\n",
    "            continue\n",
    "\n",
    "        final_test_path = os.path.join(test_path, test_file)\n",
    "\n",
    "        with open(final_test_path, \"rb\") as t:\n",
    "            data = t.read()\n",
    "            base64_image = base64.b64encode(data)\n",
    "            base64_image = Encoder(base64_image)\n",
    "            \n",
    "        params = json.dumps({\"image\": base64_image})\n",
    "        url_path = \"/v1/recognition?groupId=\" + _group_name\n",
    "        response = json.loads(send_request(\"POST\", url_path, params))\n",
    "        \n",
    "\n",
    "        # Annotate the image\n",
    "        image = Image.open(file_path)\n",
    "        font = ImageFont.load_default\n",
    "        draw = ImageDraw.Draw(image)\n",
    "\n",
    "        for face in response['objects']:\n",
    "            # Retrieve and draw a bounding box for the detected face.\n",
    "            json_vertices = face['faceAnnotation']['bounding']['vertices']\n",
    "            vert_list = [(point['x'], point['y']) for point in json_vertices]\n",
    "            draw.polygon(vert_list)\n",
    "\n",
    "            # Retrieve and draw the id and confidence of the recongition.\n",
    "            \n",
    "            name = face['objectId']\n",
    "            confidence = face['faceAnnotation']['recognitionConfidence']\n",
    "            draw.text(vert_list[0], \"%s - %s\" % (name, confidence))\n",
    "\n",
    "        image.save(os.path.join(_output_folder, test_file))\n",
    "        \n",
    "    \n",
    "    return name, confidence\n",
    "\n",
    "#     print \"Step 4 complete\\n\""
   ]
  },
  {
   "cell_type": "markdown",
   "metadata": {},
   "source": [
    "# Delete Users"
   ]
  },
  {
   "cell_type": "code",
   "execution_count": null,
   "metadata": {},
   "outputs": [],
   "source": [
    "def Delete_User(Name):\n",
    "    send_request(\"DELETE\", \"/v1/object/%s\" % Name , None)\n",
    "    print('Delete Successfully')"
   ]
  },
  {
   "cell_type": "markdown",
   "metadata": {},
   "source": [
    "# Check Object in Group"
   ]
  },
  {
   "cell_type": "code",
   "execution_count": null,
   "metadata": {},
   "outputs": [],
   "source": [
    "def Check_User():\n",
    "    Object_List = []\n",
    "    Object_List = send_request(\"GET\", \"/v1/object\", None)\n",
    "    print (Object_List)\n"
   ]
  },
  {
   "cell_type": "markdown",
   "metadata": {},
   "source": [
    "# Take Photo For Verification"
   ]
  },
  {
   "cell_type": "code",
   "execution_count": null,
   "metadata": {},
   "outputs": [],
   "source": [
    "def Capture_Image_For_Verification():\n",
    "    webcam = cv2.VideoCapture(0)\n",
    "\n",
    "    # Capture frame-by-frame\n",
    "    ret, frame = webcam.read()\n",
    "\n",
    "    # Display the resulting frame\n",
    "    cv2.imshow('frame', frame)\n",
    "\n",
    "    # Capture Image in the videos\n",
    "    cv2.imwrite(Verification_Path + '1.jpg', frame)\n",
    "\n",
    "    webcam.release()\n",
    "    cv2.destroyAllWindows()"
   ]
  },
  {
   "cell_type": "code",
   "execution_count": null,
   "metadata": {},
   "outputs": [],
   "source": [
    "def DeleteGroup():\n",
    "    print(send_request(\"GET\", \"/v1/group\", None))"
   ]
  },
  {
   "cell_type": "markdown",
   "metadata": {},
   "source": [
    "# Main Function"
   ]
  },
  {
   "cell_type": "code",
   "execution_count": null,
   "metadata": {},
   "outputs": [],
   "source": [
    "if __name__ == '__main__':\n",
    "\n",
    "    root_dir = '#####'\n",
    "    \n",
    "    print ('1. Register')\n",
    "    print ('2. Verification')\n",
    "    print ('3. Delete User')\n",
    "    print ('4. Check User')\n",
    "    Choice = input('Please Enter Your Choice : ')\n",
    "    print (' ')\n",
    "    \n",
    "    if int(Choice) == 1:\n",
    "        Name1 = Register_New_User()\n",
    "        Capture_Image()\n",
    "        step1_upload_images(os.path.join(root_dir, \"Temp\"))\n",
    "        #step2_create_group()\n",
    "        Add_Object_To_Group(Name1)\n",
    "        step3_train_group()\n",
    "        Move_File()\n",
    "        \n",
    "    elif int(Choice) == 2:\n",
    "        Capture_Image_For_Verification()\n",
    "        Name2, Confidence = step4_test(os.path.join(root_dir, \"Verification\"))\n",
    "        print(Name2, Confidence)\n",
    "    \n",
    "    elif int(Choice) == 3:\n",
    "        Name_Deleted = input('Please Enter The Name To Be Deleted : ')\n",
    "        Delete_User(Name_Deleted)\n",
    "        \n",
    "    elif int(Choice) == 4:\n",
    "        Check_User()\n",
    "        \n",
    "    elif int(Choice) == 5:\n",
    "        DeleteGroup()"
   ]
  }
 ],
 "metadata": {
  "kernelspec": {
   "display_name": "Python 3",
   "language": "python",
   "name": "python3"
  },
  "language_info": {
   "codemirror_mode": {
    "name": "ipython",
    "version": 3
   },
   "file_extension": ".py",
   "mimetype": "text/x-python",
   "name": "python",
   "nbconvert_exporter": "python",
   "pygments_lexer": "ipython3",
   "version": "3.6.5"
  }
 },
 "nbformat": 4,
 "nbformat_minor": 2
}
